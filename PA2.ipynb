{
 "cells": [
  {
   "cell_type": "code",
   "execution_count": 28,
   "id": "879c1585",
   "metadata": {},
   "outputs": [
    {
     "name": "stdout",
     "output_type": "stream",
     "text": [
      "Original X: \n",
      " [[0.88367179 0.63743591 0.90229599 0.85401074 0.10515495]\n",
      " [0.19848388 0.50932351 0.50477814 0.03033448 0.42967097]\n",
      " [0.22843475 0.53468238 0.67035367 0.07337867 0.27595949]\n",
      " [0.44840374 0.28524976 0.16079708 0.71623336 0.18348819]\n",
      " [0.23326322 0.91201841 0.50467096 0.40092487 0.30654384]]\n",
      "\n",
      "Mean: 0.43958250963019047\n",
      "Standard Deviation: 0.26605069369325396\n",
      "\n",
      "Normalized X (Z): \n",
      " [[ 1.66919048  0.74366804  1.73919293  1.55770401 -1.25700692]\n",
      " [-0.90621312  0.26213424  0.24504965 -1.53823326 -0.03725434]\n",
      " [-0.79363734  0.35745017  0.86739546 -1.37644384 -0.61500692]\n",
      " [ 0.03315619 -0.58008776 -1.04786583  1.03984261 -0.96257714]\n",
      " [-0.77548863  1.77573641  0.24464681 -0.14530179 -0.50005008]]\n"
     ]
    }
   ],
   "source": [
    "#Normalization Problem\n",
    "\n",
    "import numpy as np\n",
    "\n",
    "# Create a random 5x5 array (values between 0 and 1)\n",
    "X = np.random.random((5, 5))\n",
    "\n",
    "# Find the mean (average) of all elements in X\n",
    "mean_X = X.mean()\n",
    "\n",
    "# Find the standard deviation (how spread out the values are)\n",
    "standard_dev_X = X.std()\n",
    "\n",
    "# Apply the normalization formula\n",
    "# Z = (X - mean) / standard deviation\n",
    "# This makes the new data have mean ~0 and std ~1\n",
    "Z = (X - mean_X) / standard_dev_X\n",
    "\n",
    "# Save the normalized array\n",
    "np.save(\"X_normalized.npy\", Z)\n",
    "\n",
    "# Print results\n",
    "print(\"Original X: \\n\", X)                # show the random 5x5 array\n",
    "print(\"\\nMean:\", mean_X)                  # show the mean\n",
    "print(\"Standard Deviation:\", standard_dev_X)  # show the std\n",
    "print(\"\\nNormalized X (Z): \\n\", Z)        # show the normalized array\n"
   ]
  },
  {
   "cell_type": "code",
   "execution_count": 5,
   "id": "5f413018",
   "metadata": {},
   "outputs": [
    {
     "name": "stdout",
     "output_type": "stream",
     "text": [
      "[   9   36   81  144  225  324  441  576  729  900 1089 1296 1521 1764\n",
      " 2025 2304 2601 2916 3249 3600 3969 4356 4761 5184 5625 6084 6561 7056\n",
      " 7569 8100 8649 9216 9801]\n"
     ]
    }
   ],
   "source": [
    "#Divisible by 3 Problem\n",
    "\n",
    "import numpy as np\n",
    "\n",
    "# Create an array of integers from 1 to 100\n",
    "numbers = np.arange(1, 101)  \n",
    "\n",
    "# Square each integer in the array\n",
    "squares = numbers**2  \n",
    "\n",
    "# Reshape the squared values into a 10x10 matrix\n",
    "A = squares.reshape(10, 10)  \n",
    "\n",
    "# Select only the squared numbers that are multiples of 3\n",
    "div_by_3 = squares[squares % 3 == 0]  \n",
    "\n",
    "# Save the divisible-by-3 results into a .npy file\n",
    "np.save(\"div_by_3.npy\", div_by_3)  \n",
    "\n",
    "# Display the numbers divisible by 3\n",
    "print(div_by_3)  "
   ]
  }
 ],
 "metadata": {
  "kernelspec": {
   "display_name": "Python 3 (ipykernel)",
   "language": "python",
   "name": "python3"
  },
  "language_info": {
   "codemirror_mode": {
    "name": "ipython",
    "version": 3
   },
   "file_extension": ".py",
   "mimetype": "text/x-python",
   "name": "python",
   "nbconvert_exporter": "python",
   "pygments_lexer": "ipython3",
   "version": "3.13.5"
  }
 },
 "nbformat": 4,
 "nbformat_minor": 5
}
